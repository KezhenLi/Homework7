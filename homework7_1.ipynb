{
  "nbformat": 4,
  "nbformat_minor": 0,
  "metadata": {
    "colab": {
      "name": "homework7.1.ipynb",
      "provenance": [],
      "authorship_tag": "ABX9TyNwJGjuwpdfHGG6yvLuEShn",
      "include_colab_link": true
    },
    "kernelspec": {
      "name": "python3",
      "display_name": "Python 3"
    },
    "language_info": {
      "name": "python"
    }
  },
  "cells": [
    {
      "cell_type": "markdown",
      "metadata": {
        "id": "view-in-github",
        "colab_type": "text"
      },
      "source": [
        "<a href=\"https://colab.research.google.com/github/KezhenLi/Homework7/blob/main/homework7_1.ipynb\" target=\"_parent\"><img src=\"https://colab.research.google.com/assets/colab-badge.svg\" alt=\"Open In Colab\"/></a>"
      ]
    },
    {
      "cell_type": "code",
      "metadata": {
        "id": "bPbWrIbhCq1d"
      },
      "source": [
        "from numpy import sin, pi, zeros, empty\n",
        "from pylab import plot, show, xlabel, ylabel"
      ],
      "execution_count": 41,
      "outputs": []
    },
    {
      "cell_type": "code",
      "metadata": {
        "colab": {
          "base_uri": "https://localhost:8080/",
          "height": 279
        },
        "id": "YHVJWWw0ElK6",
        "outputId": "f2fc0022-56df-417f-d170-b8ceff054fea"
      },
      "source": [
        "# Constants\n",
        "D = 0.1  # m^2 / day\n",
        "x = 20  # m\n",
        "N = 100  \n",
        "a = x / N\n",
        "h = 0.01 \n",
        "epsilon = h / 1000\n",
        "\n",
        "t1 = 365 * 9  # 9 years in days\n",
        "t2 = 365 * 9 + 365 / 4\n",
        "t3 = 365 * 9 + 365 * 2 / 4\n",
        "t4 = 365 * 9 + 365 * 3 / 4\n",
        "t5 = 365 * 10  \n",
        "\n",
        "# Create arrays\n",
        "T = zeros(N + 1, float) + 10\n",
        "T[0] = 10  # Celsius\n",
        "T[N] = 11  \n",
        "Tp = empty(N + 1, float)\n",
        "Tp[0] = 10\n",
        "Tp[N] = 11\n",
        "\n",
        "# Main Loop\n",
        "t = 0.0\n",
        "c = h * D / (a) ** 2\n",
        "while t < t5:\n",
        "\n",
        "    T[0] = 10 + 12 * sin(2 * pi * t / 365)\n",
        "    Tp[1: N] = T[1: N] + c * (T[2: N + 1] + T[0: N - 1] - 2 * T[1: N])\n",
        "    T, Tp = Tp, T\n",
        "    t += h\n",
        "\n",
        "    # Make plots \n",
        "    if abs(t - t1) < epsilon:\n",
        "        plot(T)\n",
        "    elif abs(t - t2) < epsilon:\n",
        "        plot(T)\n",
        "    elif abs(t - t3) < epsilon:\n",
        "        plot(T)\n",
        "    elif abs(t - t4) < epsilon:\n",
        "        plot(T)\n",
        "\n",
        "xlabel(\"x\")\n",
        "ylabel(\"T\")\n",
        "show()\n"
      ],
      "execution_count": 42,
      "outputs": [
        {
          "output_type": "display_data",
          "data": {
            "image/png": "[encoded data removed]",
            "text/plain": [
              "<Figure size 432x288 with 1 Axes>"
            ]
          },
          "metadata": {
            "tags": [],
            "needs_background": "light"
          }
        }
      ]
    }
  ]
}